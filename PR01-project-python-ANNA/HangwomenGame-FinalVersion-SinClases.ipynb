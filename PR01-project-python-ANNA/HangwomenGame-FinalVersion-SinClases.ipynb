{
 "cells": [
  {
   "cell_type": "code",
   "execution_count": 1,
   "metadata": {},
   "outputs": [],
   "source": [
    "import random\n",
    "import os\n",
    "import emoji"
   ]
  },
  {
   "cell_type": "code",
   "execution_count": 2,
   "metadata": {},
   "outputs": [],
   "source": [
    "palabras=[\"COPAZO\",\"IRONHACK\",\"PYTHON\",\"GARBANZOS\"]\n",
    "palabra=list(random.choice(palabras))"
   ]
  },
  {
   "cell_type": "code",
   "execution_count": 3,
   "metadata": {},
   "outputs": [
    {
     "data": {
      "text/plain": [
       "['C', 'O', 'P', 'A', 'Z', 'O']"
      ]
     },
     "execution_count": 3,
     "metadata": {},
     "output_type": "execute_result"
    }
   ],
   "source": [
    "#comprobar palabra - test\n",
    "palabra"
   ]
  },
  {
   "cell_type": "code",
   "execution_count": 4,
   "metadata": {},
   "outputs": [],
   "source": [
    "vivo = [\"    +---+\",\n",
    "        \"        |\",\n",
    "        \"        |\",\n",
    "        \"        |\",\n",
    "        \"        |\",\n",
    "        \"        |\",\n",
    "        \"        |\",\n",
    "        \"        |\",        \n",
    "        \"   ======\"]\n",
    "\n",
    "ahorcado = [\"    +---+\",\n",
    "            \"    |   |\",\n",
    "            \"    0   |\",\n",
    "            \"   /|\\  |\",\n",
    "            \"    |   |\",\n",
    "            \"   / \\  |\",\n",
    "            \"        |\",\n",
    "            \"        |\",\n",
    "            \"   ======\"]\n"
   ]
  },
  {
   "cell_type": "code",
   "execution_count": null,
   "metadata": {},
   "outputs": [
    {
     "name": "stdout",
     "output_type": "stream",
     "text": [
      "Welcome to 'HangWomen'\n",
      "Save the person from a grim fate! Guess each letter of the word to save her. \n",
      "\n",
      "Let's start! \n",
      "\n",
      "👇\n",
      "\n",
      "- Hint: your word has 6 letters\n",
      "- Fallos totales:0\n",
      "- Letras mencionadas:[]\n",
      "    +---+\n",
      "        |\n",
      "        |\n",
      "        |\n",
      "        |\n",
      "        |\n",
      "        |\n",
      "        |\n",
      "   ======\n",
      "\n",
      "    _ _ _ _ _ _ \n",
      "\n"
     ]
    }
   ],
   "source": [
    "#letras mencionadas\n",
    "letras_todas=[]\n",
    "#contador de fallos\n",
    "fallos=1\n",
    "\n",
    "\n",
    "resultado= []\n",
    "for i in range(len(palabra)):\n",
    "    resultado.append(\"_\")\n",
    "    \n",
    "#juego\n",
    "while True:\n",
    "    os.system(\"clear\")\n",
    "    \n",
    "    print(\"Welcome to 'HangWomen'\")\n",
    "    print(\"Save the person from a grim fate! Guess each letter of the word to save her. \\n\")\n",
    "    print(\"Let's start! \\n\")\n",
    "    print(emoji.emojize(\":backhand_index_pointing_down:\")) \n",
    "    print(f\"\\n- Hint: your word has {len(palabra)} letters\")\n",
    "    print(f\"- Fallos totales:{fallos-1}\")\n",
    "    print(f\"- Letras mencionadas:{letras_todas}\")\n",
    "    \n",
    "    \n",
    "    #visibilidad de fallos en la imagen.\n",
    "    for i in range(fallos):\n",
    "        print(ahorcado[i])\n",
    "    for i in range(len(vivo)-fallos):\n",
    "        print(vivo[i+fallos])\n",
    "    \n",
    "    print()\n",
    "    \n",
    "    \n",
    "    #visibilidad resultado\n",
    "    print(\"   \", end=\" \")\n",
    "    for i in resultado:\n",
    "        print(i, end=\" \")\n",
    "        \n",
    "    print()\n",
    "    print()\n",
    "    \n",
    "    #comprobamos si jugador ha hacertado palabra o si a temrinado sus intendos\n",
    "    if resultado== palabra:\n",
    "        print(\"YEAH! You've saved the person from a grim fate\")\n",
    "        break\n",
    "        \n",
    "    if fallos>6:\n",
    "        print(\"Oops.. She is dead!\",emoji.emojize(\":skull:\"))\n",
    "        print(\"your words was\",\"\".join(palabra))\n",
    "        break\n",
    "\n",
    "    #piensa letra\n",
    "    while True:\n",
    "        letra= input(\"Guess a letter: \")\n",
    "        letra_jugador=letra.upper()\n",
    "        \n",
    "        #aseguramos que el input sea letra (no espacio u otros elementos)\n",
    "        if len(letra_jugador) != 1:\n",
    "              print(\"Oops, make sure you chose a word\")\n",
    "        elif letra_jugador in letras_todas:\n",
    "              print(\"Oops, you already mention this word\")\n",
    "        elif letra_jugador not in \"ABCDEFGHIJKLMNÑOPQRSTUVWXYZ\":\n",
    "              print(\"Oops, make sure you chose a word\")\n",
    "        else:\n",
    "            letras_todas.append(letra_jugador)\n",
    "            break\n",
    "              \n",
    "    #validamos letra jugador en palabra y si es correcta la pnemos en la lista (substituyendo guíon)\n",
    "    for i in range(len(palabra)):\n",
    "        if palabra[i]==letra_jugador:\n",
    "            resultado[i]=letra_jugador \n",
    "    \n",
    "    if letra_jugador not in palabra:\n",
    "        fallos+=1\n",
    "    \n",
    "    print()\n",
    "    print()\n",
    "\n",
    "              "
   ]
  },
  {
   "cell_type": "code",
   "execution_count": null,
   "metadata": {},
   "outputs": [],
   "source": []
  },
  {
   "cell_type": "code",
   "execution_count": null,
   "metadata": {},
   "outputs": [],
   "source": []
  }
 ],
 "metadata": {
  "kernelspec": {
   "display_name": "Python 3",
   "language": "python",
   "name": "python3"
  },
  "language_info": {
   "codemirror_mode": {
    "name": "ipython",
    "version": 3
   },
   "file_extension": ".py",
   "mimetype": "text/x-python",
   "name": "python",
   "nbconvert_exporter": "python",
   "pygments_lexer": "ipython3",
   "version": "3.7.7"
  }
 },
 "nbformat": 4,
 "nbformat_minor": 4
}
